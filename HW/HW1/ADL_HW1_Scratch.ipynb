{
  "nbformat": 4,
  "nbformat_minor": 0,
  "metadata": {
    "colab": {
      "name": "ADL_HW1_Scratch.ipynb",
      "provenance": [],
      "collapsed_sections": []
    },
    "kernelspec": {
      "name": "python3",
      "display_name": "Python 3"
    }
  },
  "cells": [
    {
      "cell_type": "code",
      "metadata": {
        "id": "YHVzdAH2DA3B",
        "outputId": "eede75f9-2ab6-456b-a264-c3f1bb6ac28b",
        "colab": {
          "base_uri": "https://localhost:8080/",
          "height": 34
        }
      },
      "source": [
        "import tensorflow as tf\n",
        "print(tf.__version__)"
      ],
      "execution_count": 1,
      "outputs": [
        {
          "output_type": "stream",
          "text": [
            "2.3.0\n"
          ],
          "name": "stdout"
        }
      ]
    },
    {
      "cell_type": "code",
      "metadata": {
        "id": "1SO2Tkb3DI3_"
      },
      "source": [
        "from tensorflow.keras.layers import Dense, Flatten\n",
        "from tensorflow.keras import Model\n",
        "import matplotlib.pyplot as plt\n",
        "import numpy as np\n"
      ],
      "execution_count": 2,
      "outputs": []
    },
    {
      "cell_type": "code",
      "metadata": {
        "id": "hZs-2O8nDWnp",
        "outputId": "3423e5d9-8cad-457b-c528-8f4466d55b84",
        "colab": {
          "base_uri": "https://localhost:8080/",
          "height": 51
        }
      },
      "source": [
        "# Download dataset\n",
        "mnist = tf.keras.datasets.mnist\n",
        "\n",
        "#load\n",
        "(x_train, y_train), (x_test, y_test) = mnist.load_data()\n",
        "\n",
        "#normalize\n",
        "x_train, x_test = x_train/ 255.0, x_test / 255.0"
      ],
      "execution_count": 3,
      "outputs": [
        {
          "output_type": "stream",
          "text": [
            "Downloading data from https://storage.googleapis.com/tensorflow/tf-keras-datasets/mnist.npz\n",
            "11493376/11490434 [==============================] - 0s 0us/step\n"
          ],
          "name": "stdout"
        }
      ]
    },
    {
      "cell_type": "code",
      "metadata": {
        "id": "lnkRcD6tDrJj",
        "outputId": "bc527c5b-64d4-4c21-b660-be68e94f59a3",
        "colab": {
          "base_uri": "https://localhost:8080/",
          "height": 221
        }
      },
      "source": [
        "# Define, train and evalue a linear model\n",
        "\n",
        "model = tf.keras.models.Sequential([\n",
        "                                    tf.keras.layers.Flatten(input_shape=(28,28)), # images are 28 x 28 in size\n",
        "                                    tf.keras.layers.Dense(10, activation='softmax')\n",
        "])\n",
        "\n",
        "model.compile(optimizer='adam', loss='sparse_categorical_crossentropy',metrics=['accuracy'])\n",
        "\n",
        "model.fit(x_train, y_train, epochs = 5)\n",
        "model.evaluate(x_test,y_test)"
      ],
      "execution_count": 4,
      "outputs": [
        {
          "output_type": "stream",
          "text": [
            "Epoch 1/5\n",
            "1875/1875 [==============================] - 2s 1ms/step - loss: 0.4702 - accuracy: 0.8765\n",
            "Epoch 2/5\n",
            "1875/1875 [==============================] - 2s 1ms/step - loss: 0.3038 - accuracy: 0.9147\n",
            "Epoch 3/5\n",
            "1875/1875 [==============================] - 2s 1ms/step - loss: 0.2838 - accuracy: 0.9208\n",
            "Epoch 4/5\n",
            "1875/1875 [==============================] - 2s 1ms/step - loss: 0.2734 - accuracy: 0.9235\n",
            "Epoch 5/5\n",
            "1875/1875 [==============================] - 2s 1ms/step - loss: 0.2668 - accuracy: 0.9254\n",
            "313/313 [==============================] - 0s 949us/step - loss: 0.2656 - accuracy: 0.9257\n"
          ],
          "name": "stdout"
        },
        {
          "output_type": "execute_result",
          "data": {
            "text/plain": [
              "[0.26558056473731995, 0.9257000088691711]"
            ]
          },
          "metadata": {
            "tags": []
          },
          "execution_count": 4
        }
      ]
    },
    {
      "cell_type": "code",
      "metadata": {
        "id": "owRoE6XWEPIH"
      },
      "source": [
        "# 1A Plot loss and accuracy\n",
        "\n",
        "model = tf.keras.models.Sequential([\n",
        "                                    tf.keras.layers.Flatten(input_shape=(28,28)),\n",
        "                                    tf.keras.layers.Dense(10, activation='softmax')\n",
        "])\n",
        "\n",
        "model.compile(optimizer='adam',\n",
        "              loss='sparse_categorical_crossentropy',\n",
        "              metrics=['accuracy'])"
      ],
      "execution_count": 5,
      "outputs": []
    },
    {
      "cell_type": "code",
      "metadata": {
        "id": "CEJifob2FDwH",
        "outputId": "2ed6d429-913f-4e06-b760-32376d208d68",
        "colab": {
          "base_uri": "https://localhost:8080/",
          "height": 357
        }
      },
      "source": [
        "# TODO Create a history object to store the results of model.fit\n",
        "\n",
        "history = model.fit(x_train, y_train, validation_data=(x_test,y_test), epochs =10)\n"
      ],
      "execution_count": 6,
      "outputs": [
        {
          "output_type": "stream",
          "text": [
            "Epoch 1/10\n",
            "1875/1875 [==============================] - 3s 1ms/step - loss: 0.4703 - accuracy: 0.8759 - val_loss: 0.3049 - val_accuracy: 0.9155\n",
            "Epoch 2/10\n",
            "1875/1875 [==============================] - 2s 1ms/step - loss: 0.3036 - accuracy: 0.9150 - val_loss: 0.2847 - val_accuracy: 0.9197\n",
            "Epoch 3/10\n",
            "1875/1875 [==============================] - 2s 1ms/step - loss: 0.2832 - accuracy: 0.9204 - val_loss: 0.2749 - val_accuracy: 0.9251\n",
            "Epoch 4/10\n",
            "1875/1875 [==============================] - 2s 1ms/step - loss: 0.2735 - accuracy: 0.9238 - val_loss: 0.2695 - val_accuracy: 0.9242\n",
            "Epoch 5/10\n",
            "1875/1875 [==============================] - 2s 1ms/step - loss: 0.2671 - accuracy: 0.9251 - val_loss: 0.2642 - val_accuracy: 0.9257\n",
            "Epoch 6/10\n",
            "1875/1875 [==============================] - 2s 1ms/step - loss: 0.2618 - accuracy: 0.9276 - val_loss: 0.2671 - val_accuracy: 0.9242\n",
            "Epoch 7/10\n",
            "1875/1875 [==============================] - 3s 1ms/step - loss: 0.2582 - accuracy: 0.9282 - val_loss: 0.2623 - val_accuracy: 0.9276\n",
            "Epoch 8/10\n",
            "1875/1875 [==============================] - 2s 1ms/step - loss: 0.2555 - accuracy: 0.9298 - val_loss: 0.2652 - val_accuracy: 0.9274\n",
            "Epoch 9/10\n",
            "1875/1875 [==============================] - 2s 1ms/step - loss: 0.2527 - accuracy: 0.9301 - val_loss: 0.2654 - val_accuracy: 0.9258\n",
            "Epoch 10/10\n",
            "1875/1875 [==============================] - 2s 1ms/step - loss: 0.2511 - accuracy: 0.9306 - val_loss: 0.2650 - val_accuracy: 0.9270\n"
          ],
          "name": "stdout"
        }
      ]
    },
    {
      "cell_type": "code",
      "metadata": {
        "id": "EgvXJJFcFo7T",
        "outputId": "821e7f3a-6212-4fd2-c40c-813c0cd42004",
        "colab": {
          "base_uri": "https://localhost:8080/",
          "height": 573
        }
      },
      "source": [
        "# plot history\n",
        "def plot(history):\n",
        "\n",
        "  # The history object contains results on the training and validation sets for each epoch\n",
        "  acc = history.history['accuracy']\n",
        "  val_acc = history.history['val_accuracy']\n",
        "  loss = history.history['loss']\n",
        "  val_loss = history.history['val_loss']\n",
        "\n",
        "  # Get number of epochs\n",
        "  epochs = range(len(acc))\n",
        "\n",
        "  plt.title('Training and validation accuracy')\n",
        "  plt.plot(epochs, acc, color='blue', label='Train')\n",
        "  plt.plot(epochs, val_acc, color='orange', label='Validation')\n",
        "  plt.xlabel('Epoch')\n",
        "  plt.ylabel('Accuracy')\n",
        "  plt.legend()\n",
        "\n",
        "\n",
        "  _= plt.figure()\n",
        "  plt.title('Training and Validation loss')\n",
        "  plt.plot(epochs, loss, color='blue', label='Train')\n",
        "  plt.plot(epochs, val_loss, color='orange', label=\"Validation\")\n",
        "  plt.xlabel('Epoch')\n",
        "  plt.ylabel('Loss')\n",
        "  plt.legend()\n",
        "\n",
        "\n",
        "plot(history)\n"
      ],
      "execution_count": 7,
      "outputs": [
        {
          "output_type": "display_data",
          "data": {
            "image/png": "[encoded data removed]",
            "text/plain": [
              "<Figure size 432x288 with 1 Axes>"
            ]
          },
          "metadata": {
            "tags": [],
            "needs_background": "light"
          }
        },
        {
          "output_type": "display_data",
          "data": {
            "image/png": "[encoded data removed]",
            "text/plain": [
              "<Figure size 432x288 with 1 Axes>"
            ]
          },
          "metadata": {
            "tags": [],
            "needs_background": "light"
          }
        }
      ]
    },
    {
      "cell_type": "code",
      "metadata": {
        "id": "voBtyF9jJE2b"
      },
      "source": [
        "#1B Implement NN\n",
        "\n",
        "# Single hidden layer\n",
        "# Add a dense layer with 128 units and Relu Activation\n",
        "# Train and evaluate\n",
        "# How does the accuracy compare to the linear model above?"
      ],
      "execution_count": 8,
      "outputs": []
    },
    {
      "cell_type": "code",
      "metadata": {
        "id": "DFx42UslJnTX",
        "outputId": "c8493f1d-891b-4b09-8e91-2f4bced238ef",
        "colab": {
          "base_uri": "https://localhost:8080/",
          "height": 913
        }
      },
      "source": [
        "model = tf.keras.models.Sequential([\n",
        "                                    tf.keras.layers.Flatten(input_shape=(28,28)),\n",
        "                                    tf.keras.layers.Dense(128, activation='relu'),\n",
        "                                    tf.keras.layers.Dense(10, activation='softmax')\n",
        "])\n",
        "\n",
        "model.compile(\n",
        "    optimizer='adam',\n",
        "    loss = 'sparse_categorical_crossentropy',\n",
        "    metrics=['accuracy']\n",
        ")\n",
        "\n",
        "neural_history = model.fit(x_train, y_train, validation_data=(x_test,y_test), epochs =10)\n",
        "plot(neural_history)"
      ],
      "execution_count": 9,
      "outputs": [
        {
          "output_type": "stream",
          "text": [
            "Epoch 1/10\n",
            "1875/1875 [==============================] - 4s 2ms/step - loss: 0.2508 - accuracy: 0.9290 - val_loss: 0.1355 - val_accuracy: 0.9603\n",
            "Epoch 2/10\n",
            "1875/1875 [==============================] - 4s 2ms/step - loss: 0.1120 - accuracy: 0.9660 - val_loss: 0.0920 - val_accuracy: 0.9709\n",
            "Epoch 3/10\n",
            "1875/1875 [==============================] - 4s 2ms/step - loss: 0.0779 - accuracy: 0.9764 - val_loss: 0.0862 - val_accuracy: 0.9742\n",
            "Epoch 4/10\n",
            "1875/1875 [==============================] - 4s 2ms/step - loss: 0.0587 - accuracy: 0.9820 - val_loss: 0.0774 - val_accuracy: 0.9760\n",
            "Epoch 5/10\n",
            "1875/1875 [==============================] - 4s 2ms/step - loss: 0.0456 - accuracy: 0.9864 - val_loss: 0.0848 - val_accuracy: 0.9741\n",
            "Epoch 6/10\n",
            "1875/1875 [==============================] - 4s 2ms/step - loss: 0.0366 - accuracy: 0.9883 - val_loss: 0.0746 - val_accuracy: 0.9767\n",
            "Epoch 7/10\n",
            "1875/1875 [==============================] - 4s 2ms/step - loss: 0.0283 - accuracy: 0.9915 - val_loss: 0.0847 - val_accuracy: 0.9744\n",
            "Epoch 8/10\n",
            "1875/1875 [==============================] - 4s 2ms/step - loss: 0.0221 - accuracy: 0.9933 - val_loss: 0.0736 - val_accuracy: 0.9788\n",
            "Epoch 9/10\n",
            "1875/1875 [==============================] - 4s 2ms/step - loss: 0.0185 - accuracy: 0.9942 - val_loss: 0.0876 - val_accuracy: 0.9749\n",
            "Epoch 10/10\n",
            "1875/1875 [==============================] - 4s 2ms/step - loss: 0.0159 - accuracy: 0.9948 - val_loss: 0.0840 - val_accuracy: 0.9770\n"
          ],
          "name": "stdout"
        },
        {
          "output_type": "display_data",
          "data": {
            "image/png": "[encoded data removed]",
            "text/plain": [
              "<Figure size 432x288 with 1 Axes>"
            ]
          },
          "metadata": {
            "tags": [],
            "needs_background": "light"
          }
        },
        {
          "output_type": "display_data",
          "data": {
            "image/png": "[encoded data removed]",
            "text/plain": [
              "<Figure size 432x288 with 1 Axes>"
            ]
          },
          "metadata": {
            "tags": [],
            "needs_background": "light"
          }
        }
      ]
    },
    {
      "cell_type": "code",
      "metadata": {
        "id": "qcIZvIhkKLH9",
        "outputId": "c95abac2-af3f-4233-a9be-6abe6b7f2282",
        "colab": {
          "base_uri": "https://localhost:8080/",
          "height": 913
        }
      },
      "source": [
        "#1C Implement a deep NN\n",
        "# Modify the code below to create and train a deep neural network with at least two hidden layers\n",
        "\n",
        "model = tf.keras.models.Sequential([\n",
        "                                     tf.keras.layers.Flatten(input_shape=(28,28)),\n",
        "                                     tf.keras.layers.Dense(128,activation='relu'),\n",
        "                                     tf.keras.layers.Dense(128,activation='relu'),\n",
        "                                    #  tf.keras.layers.Dropout(rate=.5),\n",
        "                                     tf.keras.layers.Dense(128, activation='relu'),\n",
        "                                     tf.keras.layers.Dense(128, activation='relu'),\n",
        "                                     tf.keras.layers.Dense(10, activation='softmax')\n",
        "])\n",
        "\n",
        "\n",
        "model.compile(optimizer='adam',\n",
        "              loss='sparse_categorical_crossentropy',\n",
        "              metrics=['accuracy'])\n",
        "deep_history = model.fit(x_train, y_train, validation_data=(x_test,y_test), epochs=10)\n",
        "plot(deep_history)"
      ],
      "execution_count": 10,
      "outputs": [
        {
          "output_type": "stream",
          "text": [
            "Epoch 1/10\n",
            "1875/1875 [==============================] - 5s 3ms/step - loss: 0.2361 - accuracy: 0.9274 - val_loss: 0.1176 - val_accuracy: 0.9659\n",
            "Epoch 2/10\n",
            "1875/1875 [==============================] - 5s 3ms/step - loss: 0.1044 - accuracy: 0.9675 - val_loss: 0.0926 - val_accuracy: 0.9726\n",
            "Epoch 3/10\n",
            "1875/1875 [==============================] - 6s 3ms/step - loss: 0.0758 - accuracy: 0.9765 - val_loss: 0.0952 - val_accuracy: 0.9725\n",
            "Epoch 4/10\n",
            "1875/1875 [==============================] - 8s 4ms/step - loss: 0.0631 - accuracy: 0.9809 - val_loss: 0.0845 - val_accuracy: 0.9761\n",
            "Epoch 5/10\n",
            "1875/1875 [==============================] - 6s 3ms/step - loss: 0.0508 - accuracy: 0.9840 - val_loss: 0.0776 - val_accuracy: 0.9779\n",
            "Epoch 6/10\n",
            "1875/1875 [==============================] - 5s 3ms/step - loss: 0.0431 - accuracy: 0.9867 - val_loss: 0.0857 - val_accuracy: 0.9781\n",
            "Epoch 7/10\n",
            "1875/1875 [==============================] - 5s 3ms/step - loss: 0.0376 - accuracy: 0.9878 - val_loss: 0.0831 - val_accuracy: 0.9792\n",
            "Epoch 8/10\n",
            "1875/1875 [==============================] - 5s 3ms/step - loss: 0.0343 - accuracy: 0.9891 - val_loss: 0.0880 - val_accuracy: 0.9783\n",
            "Epoch 9/10\n",
            "1875/1875 [==============================] - 5s 3ms/step - loss: 0.0286 - accuracy: 0.9914 - val_loss: 0.0951 - val_accuracy: 0.9798\n",
            "Epoch 10/10\n",
            "1875/1875 [==============================] - 5s 3ms/step - loss: 0.0283 - accuracy: 0.9915 - val_loss: 0.0811 - val_accuracy: 0.9806\n"
          ],
          "name": "stdout"
        },
        {
          "output_type": "display_data",
          "data": {
            "image/png": "[encoded data removed]",
            "text/plain": [
              "<Figure size 432x288 with 1 Axes>"
            ]
          },
          "metadata": {
            "tags": [],
            "needs_background": "light"
          }
        },
        {
          "output_type": "display_data",
          "data": {
            "image/png": "[encoded data removed]",
            "text/plain": [
              "<Figure size 432x288 with 1 Axes>"
            ]
          },
          "metadata": {
            "tags": [],
            "needs_background": "light"
          }
        }
      ]
    },
    {
      "cell_type": "code",
      "metadata": {
        "id": "V8_zcroGMqAv"
      },
      "source": [
        "# 1D make predictions on the entire test set using model.predict\n",
        "# identify one image classified correctly, and one image classified incorrectly\n",
        "# Display the images, correct labels, predicted labels, and confidence scores"
      ],
      "execution_count": 11,
      "outputs": []
    },
    {
      "cell_type": "code",
      "metadata": {
        "id": "YFbVkRWJZh0p"
      },
      "source": [
        "predictions = model.predict(x_test)"
      ],
      "execution_count": 12,
      "outputs": []
    },
    {
      "cell_type": "code",
      "metadata": {
        "id": "xtHmIN1FZ7Jr"
      },
      "source": [
        "# Check the first ten predicted labels and true labels to find examples of correct and incorrect predictions\n",
        "\n",
        "# Create lists for all correct and incorrect positions\n",
        "correct_prediction_indicies = []\n",
        "incorrect_prediction_indicies = []\n",
        "\n",
        "for i in range(len(predictions)):\n",
        "  if (tf.math.argmax(predictions[i]) == y_test[i]): # Prediction is correct\n",
        "    correct_prediction_indicies.append(i)\n",
        "  else:\n",
        "    incorrect_prediction_indicies.append(i)\n",
        "    "
      ],
      "execution_count": 13,
      "outputs": []
    },
    {
      "cell_type": "code",
      "metadata": {
        "id": "40kBD0rF62-F",
        "outputId": "d9540df8-d95b-4fe5-a56f-cea7eca6c160",
        "colab": {
          "base_uri": "https://localhost:8080/",
          "height": 51
        }
      },
      "source": [
        "print(f'The first correct prediction occurs at index={correct_prediction_indicies[0]}')\n",
        "print(f'The first incorrect prediction occurs at index={incorrect_prediction_indicies[0]}')"
      ],
      "execution_count": 14,
      "outputs": [
        {
          "output_type": "stream",
          "text": [
            "The first correct prediction occurs at index=0\n",
            "The first incorrect prediction occurs at index=195\n"
          ],
          "name": "stdout"
        }
      ]
    },
    {
      "cell_type": "code",
      "metadata": {
        "id": "zbWyiW8y0bFb"
      },
      "source": [
        "# So we can assign variables to avoid typing the full list for clarity\n",
        "first_correct_pred_index = correct_prediction_indicies[0]\n",
        "first_incorrect_pred_index = incorrect_prediction_indicies[0]\n"
      ],
      "execution_count": 15,
      "outputs": []
    },
    {
      "cell_type": "code",
      "metadata": {
        "id": "A688EhEdxt9r",
        "outputId": "6f2cf8e0-53ec-487b-e290-3c2a324995bb",
        "colab": {
          "base_uri": "https://localhost:8080/",
          "height": 321
        }
      },
      "source": [
        "# Unclear about confidence score\n",
        "\n",
        "fig, ax = plt.subplots(1,2)\n",
        "fig.set_size_inches(8,4)\n",
        "\n",
        "ax[0].set_title(\"Correct Prediction\")\n",
        "ax[0].set_xlabel(f'True Label:{y_test[first_correct_pred_index]} \\n Predicted Label:{np.argmax(predictions[first_correct_pred_index])} \\n Confidence Score:{np.max(predictions[first_correct_pred_index])}')\n",
        "\n",
        "ax[1].set_title(\"Incorrect Prediction\")\n",
        "ax[1].set_xlabel(f'True label:{y_test[first_incorrect_pred_index]} \\n Predicted Label:{np.argmax(predictions[first_incorrect_pred_index])} \\n Confidence Score:{np.max(predictions[first_incorrect_pred_index])}')\n",
        "\n",
        "ax[0].imshow(x_test[first_correct_pred_index])\n",
        "ax[1].imshow(x_test[first_incorrect_pred_index])\n",
        "\n",
        "\n",
        "\n"
      ],
      "execution_count": 16,
      "outputs": [
        {
          "output_type": "execute_result",
          "data": {
            "text/plain": [
              "<matplotlib.image.AxesImage at 0x7f8a33123f60>"
            ]
          },
          "metadata": {
            "tags": []
          },
          "execution_count": 16
        },
        {
          "output_type": "display_data",
          "data": {
            "image/png": "[encoded data removed]",
            "text/plain": [
              "<Figure size 576x288 with 2 Axes>"
            ]
          },
          "metadata": {
            "tags": [],
            "needs_background": "light"
          }
        }
      ]
    },
    {
      "cell_type": "code",
      "metadata": {
        "id": "fsd92QRPwaKM"
      },
      "source": [
        "#Part 2 Subclassed Models\n",
        "# Instead of using the built in model.fit methods, we will train models using GradientTape and the Keras Subclassing API\n"
      ],
      "execution_count": 17,
      "outputs": []
    },
    {
      "cell_type": "code",
      "metadata": {
        "id": "KLuTA1Wu0wdb"
      },
      "source": [
        "#download and prepare our dataset\n",
        "# We also are going to use tf.data to batch and shuffle the data. \n",
        "\n",
        "# Load Data\n",
        "(x_train, y_train), (x_test, y_test) = tf.keras.datasets.mnist.load_data()\n",
        "\n",
        "# Batch and shuffle the data\n",
        "train_ds = tf.data.Dataset.from_tensor_slices(\n",
        "    (x_train.astype('float32') / 255, y_train)).shuffle(1024).batch(32)\n",
        "\n",
        "test_ds= tf.data.Dataset.from_tensor_slices(\n",
        "    (x_test.astype('float32') / 255, y_test)).batch(32)\n",
        "    "
      ],
      "execution_count": 18,
      "outputs": []
    },
    {
      "cell_type": "code",
      "metadata": {
        "id": "a8H6-nNV1pYX",
        "outputId": "99bf664e-8108-4cc2-cbbe-b38681e98b22",
        "colab": {
          "base_uri": "https://localhost:8080/",
          "height": 282
        }
      },
      "source": [
        "# Example of iterating over a dataset object\n",
        "for image, label in train_ds.take(1):\n",
        "  plt.imshow(image[0],plt.get_cmap('gray'))\n",
        "  print(label[0])"
      ],
      "execution_count": 19,
      "outputs": [
        {
          "output_type": "stream",
          "text": [
            "tf.Tensor(4, shape=(), dtype=uint8)\n"
          ],
          "name": "stdout"
        },
        {
          "output_type": "display_data",
          "data": {
            "image/png": "[encoded data removed]",
            "text/plain": [
              "<Figure size 432x288 with 1 Axes>"
            ]
          },
          "metadata": {
            "tags": [],
            "needs_background": "light"
          }
        }
      ]
    },
    {
      "cell_type": "code",
      "metadata": {
        "id": "Gm2jROPA2N1j"
      },
      "source": [
        "class MyLinearModel(Model):\n",
        "  def __init__(self):\n",
        "    super(MyLinearModel, self).__init__()\n",
        "    self.flatten = Flatten()\n",
        "    self.d1 = Dense(10, activation='softmax', name=\"dense1\")\n",
        "\n",
        "  def call(self, x):\n",
        "    x = self.flatten(x)\n",
        "    return self.d1(x)"
      ],
      "execution_count": 20,
      "outputs": []
    },
    {
      "cell_type": "code",
      "metadata": {
        "id": "JNhPGGVX2wrJ",
        "outputId": "46bace42-8e60-4618-e3b2-63a72ceb18f3",
        "colab": {
          "base_uri": "https://localhost:8080/",
          "height": 102
        }
      },
      "source": [
        "model = MyLinearModel()\n",
        "\n",
        "loss_fn = tf.keras.losses.SparseCategoricalCrossentropy()\n",
        "optimizer = tf.keras.optimizers.SGD()\n",
        "\n",
        "# For each epoch\n",
        "for epoch in range(5):\n",
        "\n",
        "  # For each batch of images and labels\n",
        "  for images, labels in train_ds:\n",
        "\n",
        "    # Open a GradientTape.\n",
        "    with tf.GradientTape() as tape:\n",
        "\n",
        "      # Forward pass\n",
        "      predictions = model(images)\n",
        "\n",
        "      # Calculate loss\n",
        "      loss = loss_fn(labels, predictions)\n",
        "\n",
        "    # Backprop to calculate gradients\n",
        "    gradients = tape.gradient(loss, model.trainable_variables)\n",
        "\n",
        "    # Gradient descent step\n",
        "    optimizer.apply_gradients(zip(gradients, model.trainable_variables))\n",
        "\n",
        "  # Calculate loss on the test data\n",
        "  test_loss = []\n",
        "  for images, labels in test_ds: \n",
        "    predictions = model(images)\n",
        "    loss_on_batch = loss_fn(labels, predictions)\n",
        "    test_loss.append(loss_on_batch)\n",
        "    \n",
        "  print(\"Epoch {}, Test loss: {}\".format(epoch, tf.reduce_mean(test_loss)))"
      ],
      "execution_count": 21,
      "outputs": [
        {
          "output_type": "stream",
          "text": [
            "Epoch 0, Test loss: 0.4821569323539734\n",
            "Epoch 1, Test loss: 0.4013344347476959\n",
            "Epoch 2, Test loss: 0.36852917075157166\n",
            "Epoch 3, Test loss: 0.3496668338775635\n",
            "Epoch 4, Test loss: 0.33730801939964294\n"
          ],
          "name": "stdout"
        }
      ]
    },
    {
      "cell_type": "code",
      "metadata": {
        "id": "3oQmHMC0mIOn",
        "outputId": "04073258-36e8-4e0d-d7f2-b88546261472",
        "colab": {
          "base_uri": "https://localhost:8080/",
          "height": 34
        }
      },
      "source": [
        "# There are two ways to retrieve the weights. You can use the public API\n",
        "# (model.get_layer(name).get_weights()), or, you can access the dense layer \n",
        "# directly (model.dl) then find the accessor method, or again, access the\n",
        "# variable directly.\n",
        "# Python tip: try ```dir(model.d1)```\n",
        "\n",
        "# TODO: modify this code to get the weights\n",
        "weights, bias = model.get_layer('dense1').get_weights()\n",
        "print(weights.shape)"
      ],
      "execution_count": 27,
      "outputs": [
        {
          "output_type": "stream",
          "text": [
            "(784, 10)\n"
          ],
          "name": "stdout"
        }
      ]
    },
    {
      "cell_type": "code",
      "metadata": {
        "id": "jidRZZ8opguB",
        "outputId": "546cc1e8-cc51-4bc5-a24d-d71d9ee9cf66",
        "colab": {
          "base_uri": "https://localhost:8080/",
          "height": 141
        }
      },
      "source": [
        "fig, axs = plt.subplots(1,10, figsize=(20,20))\n",
        "for i in range(10):\n",
        "  subplot = axs[i]\n",
        "  subplot.set_title(i)\n",
        "  subplot.axis('off')\n",
        "  # TODO: modify this code to complete the plotting function\n",
        "  i_weights = weights[:,i]\n",
        "  img = i_weights.reshape(28,28) # Reshape the weights into a 28x28 array\n",
        "  subplot.imshow(img, plt.get_cmap('seismic'))\n",
        "plt.show()"
      ],
      "execution_count": 47,
      "outputs": [
        {
          "output_type": "display_data",
          "data": {
            "image/png": "[encoded data removed]",
            "text/plain": [
              "<Figure size 1440x1440 with 10 Axes>"
            ]
          },
          "metadata": {
            "tags": [],
            "needs_background": "light"
          }
        }
      ]
    },
    {
      "cell_type": "code",
      "metadata": {
        "id": "1pLOMmm3q6_A",
        "outputId": "3756f79b-c5a4-4cd1-9b56-22b70a364011",
        "colab": {
          "base_uri": "https://localhost:8080/",
          "height": 34
        }
      },
      "source": [
        "type(weights)"
      ],
      "execution_count": 32,
      "outputs": [
        {
          "output_type": "execute_result",
          "data": {
            "text/plain": [
              "numpy.ndarray"
            ]
          },
          "metadata": {
            "tags": []
          },
          "execution_count": 32
        }
      ]
    },
    {
      "cell_type": "code",
      "metadata": {
        "id": "pLiRArPJq7uL",
        "outputId": "7e691b78-b0ae-431d-85aa-32480882a518",
        "colab": {
          "base_uri": "https://localhost:8080/",
          "height": 1000
        }
      },
      "source": [
        ""
      ],
      "execution_count": 45,
      "outputs": [
        {
          "output_type": "execute_result",
          "data": {
            "text/plain": [
              "array([ 6.34257272e-02,  7.24091306e-02, -2.09897533e-02, -2.24593952e-02,\n",
              "        7.72832707e-02,  8.29140469e-02, -6.37141019e-02, -8.08396861e-02,\n",
              "        6.42097816e-02, -3.65100354e-02,  1.81147084e-02,  3.33636999e-03,\n",
              "        6.50636107e-02, -7.03505352e-02, -6.57208590e-03, -6.13439269e-02,\n",
              "       -8.10097605e-02, -3.07435542e-02,  5.99053130e-02,  5.05994037e-02,\n",
              "        3.45570073e-02,  1.74347833e-02, -3.68592627e-02, -7.26260990e-02,\n",
              "       -7.29548931e-03, -4.39263545e-02,  1.92693472e-02,  4.96539399e-02,\n",
              "        6.49162009e-02,  2.28384882e-02,  3.78631204e-02,  4.73584607e-02,\n",
              "        5.19278795e-02,  3.54596451e-02, -4.29846160e-02, -5.43803871e-02,\n",
              "       -1.60597416e-03,  5.34267500e-02, -5.21435812e-02,  3.57323475e-02,\n",
              "       -5.29293902e-02,  5.30447252e-02,  2.63839611e-03, -4.22995947e-02,\n",
              "        3.97006869e-02, -3.37942690e-02, -2.37390455e-02,  5.62970452e-02,\n",
              "        1.14600034e-02,  6.58279955e-02, -7.16527477e-02,  8.20999071e-02,\n",
              "        9.57438350e-03, -3.37647758e-02,  4.20390591e-02, -8.63517672e-02,\n",
              "        8.48139301e-02, -8.14087465e-02,  3.28696258e-02,  7.15316162e-02,\n",
              "       -1.23631144e-02,  4.70976010e-02,  3.88411395e-02, -6.23585396e-02,\n",
              "        7.63645917e-02, -5.10075130e-02, -6.55044913e-02,  2.08334308e-02,\n",
              "        7.86524415e-02,  6.70390278e-02,  2.91099325e-02,  3.98299210e-02,\n",
              "       -2.78891735e-02, -8.37114602e-02, -7.71132186e-02, -3.34719084e-02,\n",
              "        1.22625357e-03,  7.67884729e-03,  2.31316849e-03,  1.02039641e-02,\n",
              "        3.85657698e-02, -7.38545284e-02, -1.64422169e-02, -5.25557548e-02,\n",
              "       -3.61717939e-02,  3.95165384e-03,  5.50179370e-02,  4.33474965e-03,\n",
              "       -6.43573254e-02,  8.30785409e-02, -4.78269905e-02,  5.24352491e-02,\n",
              "        2.12466996e-03,  3.27029824e-02, -8.67498815e-02, -6.36914000e-02,\n",
              "       -1.09819911e-01, -5.83104463e-03, -2.48095114e-02,  2.20851321e-02,\n",
              "       -6.77117184e-02, -1.00242399e-01, -1.07551329e-01, -5.02279028e-02,\n",
              "       -2.51175910e-02,  3.68468929e-03,  6.80197030e-02,  4.09344807e-02,\n",
              "        1.26410285e-02, -1.54210432e-02,  5.89327998e-02, -8.34639370e-03,\n",
              "       -5.14685549e-02,  4.54110205e-02, -4.63574231e-02, -5.52410148e-02,\n",
              "       -5.84935322e-02, -4.07257974e-02,  7.26567134e-02, -6.89536054e-03,\n",
              "        5.56276627e-02, -7.30283931e-02,  4.24103476e-02, -3.88446115e-02,\n",
              "        3.60602438e-02, -3.13008241e-02, -1.98506080e-02, -5.86417457e-03,\n",
              "       -3.58018614e-02, -5.43711446e-02, -7.63149336e-02, -8.37173220e-03,\n",
              "       -7.30616748e-02, -1.92280319e-02, -5.91624416e-02,  1.30703049e-02,\n",
              "        4.98513989e-02,  1.76276583e-02,  7.50395879e-02, -4.61216159e-02,\n",
              "        1.06661841e-02, -3.15428972e-02, -5.70224859e-02,  3.60449101e-03,\n",
              "       -7.18320385e-02, -2.88194213e-02, -3.84546518e-02, -1.52684217e-02,\n",
              "        2.70311814e-03, -4.08400707e-02, -2.68698893e-02, -1.43670980e-02,\n",
              "       -4.11010347e-02,  1.14283361e-01,  1.04182072e-01,  1.14555828e-01,\n",
              "        7.15513006e-02,  5.34013920e-02,  1.19037598e-01,  9.75389108e-02,\n",
              "       -6.27025962e-02, -8.93282369e-02, -5.98090002e-03,  5.09423353e-02,\n",
              "       -1.04531243e-01, -8.36105943e-02,  3.07757109e-02,  2.74572168e-02,\n",
              "        6.30005673e-02, -6.31596595e-02,  7.34371394e-02,  4.61498536e-02,\n",
              "        7.31993988e-02, -6.60507306e-02, -6.76431507e-02, -2.78706905e-02,\n",
              "       -8.61158893e-02, -1.57639608e-02, -3.21617303e-03,  5.38543239e-02,\n",
              "        7.89654553e-02,  2.51995493e-02,  3.39600891e-02,  1.95790887e-01,\n",
              "        1.16988301e-01,  1.95388377e-01,  6.14008456e-02,  9.20376256e-02,\n",
              "        9.94499996e-02,  1.09214179e-01,  3.37541364e-02, -2.49678735e-02,\n",
              "       -4.05791029e-02, -6.72869533e-02, -5.42577393e-02, -7.82702193e-02,\n",
              "       -6.02999441e-02, -3.21040004e-02, -2.28090324e-02, -3.89009528e-02,\n",
              "        4.56993990e-02, -1.63331218e-02, -3.24587710e-03, -2.21154280e-03,\n",
              "       -7.75786415e-02,  3.74236703e-02, -7.45008439e-02,  5.82798338e-03,\n",
              "        2.53829313e-03,  1.25333652e-01,  7.22410232e-02,  8.36700276e-02,\n",
              "        2.05566019e-01,  2.06857041e-01,  1.05093554e-01,  1.32035449e-01,\n",
              "        2.35769711e-02,  5.81852794e-02,  5.24148252e-03,  1.43113714e-02,\n",
              "       -4.38729897e-02, -2.72282977e-02, -7.79623017e-02,  2.46984735e-02,\n",
              "        6.59985170e-02,  4.74729240e-02, -2.80655846e-02,  2.60341037e-02,\n",
              "       -7.53805935e-02, -7.99430534e-02, -4.63800831e-03, -5.83343543e-02,\n",
              "       -6.96981773e-02, -3.50371636e-02, -2.40756962e-02, -1.10900439e-02,\n",
              "       -2.55114865e-02,  2.63849609e-02,  6.21323287e-02,  4.25121114e-02,\n",
              "        1.31156877e-01,  1.09932043e-01,  2.27620915e-01,  8.00195560e-02,\n",
              "        5.40789254e-02, -1.25327278e-02,  6.45863563e-02,  5.70138730e-02,\n",
              "        9.67061426e-03, -3.88556011e-02, -2.94194836e-02, -8.11103284e-02,\n",
              "        6.08724542e-02, -4.74912487e-02,  3.80276665e-02,  7.35071525e-02,\n",
              "        4.95002493e-02,  2.87376028e-02, -6.96362481e-02, -3.66928568e-03,\n",
              "       -5.12485057e-02, -1.29683968e-02,  2.10807542e-03,  4.24196795e-02,\n",
              "        3.52629833e-02,  7.89587423e-02,  3.37338448e-02,  8.18692148e-03,\n",
              "        7.10795298e-02,  4.90359217e-02,  2.27164298e-01,  1.03988148e-01,\n",
              "        1.39694601e-01,  1.01009458e-01,  8.88938755e-02,  1.07779004e-01,\n",
              "        6.91441447e-02, -1.13658361e-01, -3.10423709e-02, -2.17749234e-02,\n",
              "        3.62844951e-02,  5.52915819e-02, -7.55086914e-02,  4.48786328e-03,\n",
              "       -6.09569363e-02, -5.77213168e-02, -3.63556184e-02,  2.78326683e-02,\n",
              "        5.33406250e-02, -3.79322544e-02, -4.50060517e-02,  2.41507459e-02,\n",
              "        6.20092079e-02, -1.14858439e-02, -2.64182165e-02, -1.54771535e-02,\n",
              "       -2.35944744e-02, -6.42136782e-02,  5.88509962e-02,  1.08846590e-01,\n",
              "        1.49410680e-01,  7.23758787e-02,  1.72791079e-01,  1.23864122e-01,\n",
              "       -4.90923971e-02,  5.46051785e-02, -6.96980432e-02,  2.61485893e-02,\n",
              "        2.69312207e-02,  4.37118523e-02, -4.21098061e-02, -4.47118171e-02,\n",
              "        1.80660747e-02, -3.41975916e-04,  2.04544533e-02, -4.88378033e-02,\n",
              "       -2.90172473e-02,  4.25178185e-02,  8.58564973e-02,  1.09585628e-01,\n",
              "       -1.34431822e-02, -7.23996833e-02, -1.44335791e-01, -1.44258633e-01,\n",
              "       -1.46309599e-01, -7.22796693e-02, -8.52846261e-03,  6.94219321e-02,\n",
              "        7.29814395e-02,  1.39171243e-01,  2.27269769e-01,  2.13851318e-01,\n",
              "        8.85838084e-03, -2.39985995e-02, -3.91139975e-03,  4.35124300e-02,\n",
              "        2.98316684e-02, -8.15927014e-02,  6.66502938e-02,  7.31082559e-02,\n",
              "        3.42692025e-02, -2.77090818e-04, -2.06617396e-02,  1.07752964e-01,\n",
              "        8.43575820e-02,  6.31389394e-02,  4.06805277e-02,  3.69839184e-02,\n",
              "        4.87166569e-02, -1.54281154e-01, -2.64417708e-01, -2.56629884e-01,\n",
              "       -4.01164174e-01, -2.29245305e-01, -1.49878472e-01,  8.66304487e-02,\n",
              "        1.05660953e-01,  6.82024062e-02,  2.45908558e-01,  1.15696847e-01,\n",
              "        1.02676712e-01,  5.64920530e-02,  5.42909317e-02, -6.79215193e-02,\n",
              "        7.00224265e-02,  4.53182198e-02, -5.62415794e-02,  2.29180586e-02,\n",
              "       -7.15242252e-02,  2.21951418e-02,  3.54931094e-02, -5.38245216e-03,\n",
              "        6.59056753e-02,  9.82502103e-03,  2.91852038e-02,  8.33635628e-02,\n",
              "        7.87373353e-03, -2.38982826e-01, -2.98163891e-01, -3.00661415e-01,\n",
              "       -2.81841516e-01, -1.57341942e-01, -1.54219672e-01, -2.18736455e-02,\n",
              "       -2.76880413e-02,  1.11631408e-01,  1.49821609e-01,  1.77708849e-01,\n",
              "        1.29748164e-02,  6.36087880e-02, -7.38630369e-02,  6.60667643e-02,\n",
              "        3.48936096e-02, -7.43587613e-02,  5.09680696e-02, -1.97833441e-02,\n",
              "       -6.21076971e-02,  1.31400768e-02,  1.79849401e-01,  1.31430805e-01,\n",
              "        9.27076861e-02,  1.80739298e-01,  5.80866598e-02,  9.43371430e-02,\n",
              "       -1.18805639e-01, -3.25803280e-01, -3.15652728e-01, -4.08162862e-01,\n",
              "       -3.83219242e-01, -2.69483089e-01, -2.09382214e-02, -9.36142802e-02,\n",
              "        9.00644958e-02,  1.70556441e-01,  1.88058212e-01,  9.99614969e-02,\n",
              "        6.09565414e-02,  2.16768738e-02,  7.17483982e-02, -1.14511261e-02,\n",
              "        5.78728914e-02, -9.79827065e-03,  1.78099629e-02, -2.88905110e-02,\n",
              "       -7.32267573e-02,  1.42743200e-01,  3.26115675e-02,  1.17176525e-01,\n",
              "        6.90744370e-02,  1.71233043e-01,  1.36662930e-01, -8.62930119e-02,\n",
              "       -2.33600602e-01, -3.92307252e-01, -3.70621473e-01, -3.71196866e-01,\n",
              "       -3.11632514e-01, -2.05198631e-01, -4.58304733e-02,  6.36058673e-02,\n",
              "       -2.35944837e-02,  1.41864523e-01,  1.26710519e-01,  1.86912253e-01,\n",
              "        9.20925587e-02, -5.00327647e-02, -4.38492112e-02,  2.74066627e-02,\n",
              "        8.56082141e-02,  2.92558391e-02, -5.60278073e-02, -7.46420100e-02,\n",
              "        4.57376726e-02,  2.74041016e-02,  1.44846961e-01,  2.13479951e-01,\n",
              "        1.18049152e-01,  1.90905735e-01,  7.02875182e-02, -1.35327382e-02,\n",
              "       -2.35169739e-01, -3.00358593e-01, -2.82355279e-01, -3.65895838e-01,\n",
              "       -2.11884618e-01, -1.11331940e-01,  1.63266121e-03, -3.49139348e-02,\n",
              "        5.91706522e-02, -6.40784483e-03,  1.38609082e-01,  1.63630798e-01,\n",
              "        1.16351537e-01, -7.48743340e-02,  3.56738605e-02,  7.69967139e-02,\n",
              "        7.09481165e-02, -8.68652537e-02,  3.82347591e-02, -6.01554103e-02,\n",
              "        4.12805900e-02,  1.46209478e-01,  1.91701800e-01,  5.79896681e-02,\n",
              "        1.49606422e-01,  1.23361968e-01,  1.29535273e-01, -8.66402909e-02,\n",
              "       -1.78005263e-01, -2.85030752e-01, -3.94784749e-01, -1.72110647e-01,\n",
              "       -1.38646796e-01, -7.25114997e-03,  5.38829453e-02,  4.59361784e-02,\n",
              "       -2.14924244e-03,  1.38204306e-01,  4.45448607e-02, -3.10503202e-03,\n",
              "        7.38969520e-02, -6.33041039e-02, -2.91796643e-02,  1.89279839e-02,\n",
              "        7.21656457e-02, -4.29839687e-03,  6.15711212e-02, -4.78481576e-02,\n",
              "       -7.24602044e-02,  5.80149963e-02,  9.97040868e-02,  1.97921276e-01,\n",
              "        2.09562778e-01,  2.00857699e-01,  1.42983332e-01,  2.19472349e-02,\n",
              "       -1.92225009e-01, -2.01701999e-01, -2.59663016e-01, -7.28531182e-02,\n",
              "       -1.39436513e-01,  2.23963577e-02,  7.32582435e-02,  7.75016919e-02,\n",
              "        4.29792479e-02,  9.49582309e-02, -9.46187507e-03, -1.60994474e-02,\n",
              "       -6.57847291e-03, -6.45145103e-02,  4.34360541e-02,  4.03359905e-03,\n",
              "       -1.95054244e-02, -6.57761376e-03,  5.25910519e-02, -2.10107528e-02,\n",
              "        5.10403514e-02, -1.36052174e-02,  1.89730942e-01,  1.67890668e-01,\n",
              "        1.39728740e-01,  1.22175813e-01,  9.29337516e-02,  1.20838620e-01,\n",
              "       -1.20899081e-01, -1.80915557e-02, -1.06373675e-01,  6.12139120e-04,\n",
              "       -5.46816438e-02,  6.81508929e-02, -7.18215406e-02, -1.16197849e-02,\n",
              "        2.55330862e-03, -3.75082740e-03,  4.62171584e-02, -7.72168860e-02,\n",
              "       -7.90374875e-02, -3.76654603e-02, -4.75638099e-02, -4.93134744e-02,\n",
              "        3.63158807e-02,  7.85174873e-03,  7.27660432e-02, -2.52783541e-02,\n",
              "        6.39534369e-02,  5.96387424e-02,  4.74763550e-02,  9.12196711e-02,\n",
              "        5.85954711e-02,  1.24499373e-01,  2.43769333e-01,  6.18719496e-02,\n",
              "        6.93459436e-02, -5.33535285e-03,  2.23781019e-02,  6.08453862e-02,\n",
              "       -1.75459515e-02, -5.98744154e-02,  4.50149365e-02, -4.72687744e-02,\n",
              "        4.55897301e-03,  6.64877445e-02,  6.90689776e-03,  1.72098621e-03,\n",
              "       -5.29737724e-03, -7.71088973e-02, -8.29758197e-02, -1.89553332e-02,\n",
              "        3.19948271e-02, -4.48726155e-02,  2.76901689e-03, -7.56281316e-02,\n",
              "       -6.69670701e-02, -9.25685465e-03,  9.89313982e-03,  5.75315729e-02,\n",
              "        4.48121317e-02,  1.87630504e-01,  1.10818759e-01,  1.90955803e-01,\n",
              "        3.99061590e-02,  7.19411895e-02,  7.15644360e-02, -2.13730335e-02,\n",
              "       -3.20014842e-02, -8.91235191e-03, -6.81908578e-02, -6.86344579e-02,\n",
              "       -7.84654543e-02, -7.31569231e-02, -1.65297240e-02, -3.11210416e-02,\n",
              "       -1.12711377e-02,  4.10374254e-02, -6.59734532e-02,  5.08954823e-02,\n",
              "        2.30074953e-02,  4.64015501e-03, -2.11557560e-02, -1.94863509e-02,\n",
              "       -8.68875906e-03, -2.34003793e-02, -3.17925913e-03,  5.02908323e-03,\n",
              "        1.39387384e-01,  6.12422787e-02,  2.05725729e-01,  1.57586336e-01,\n",
              "        2.31781512e-01,  8.97578746e-02,  8.68052468e-02,  5.55410460e-02,\n",
              "        7.23852590e-02,  6.48363531e-02, -7.68382382e-03,  1.07607255e-02,\n",
              "       -8.63281488e-02, -2.20626369e-02, -4.55224626e-02,  3.02222576e-02,\n",
              "       -6.60686269e-02, -4.37837169e-02,  3.58387977e-02,  5.03564514e-02,\n",
              "        4.71302345e-02,  4.26881239e-02,  8.06473121e-02, -8.77962112e-02,\n",
              "        2.22719815e-02, -4.37018685e-02,  8.66563171e-02, -2.85413116e-02,\n",
              "        3.07643833e-03,  1.57676473e-01,  6.95780516e-02,  1.70546293e-01,\n",
              "        9.07179490e-02,  2.03697428e-01,  5.62075041e-02, -1.26780421e-02,\n",
              "       -7.86118731e-02,  4.87184115e-02, -6.48276210e-02, -1.27327561e-01,\n",
              "       -1.10328779e-01,  5.65435737e-02, -6.83266521e-02, -2.23225318e-02,\n",
              "       -3.84686776e-02, -1.42529290e-02, -8.47834162e-03,  5.46078458e-02,\n",
              "        7.08023235e-02,  3.27115282e-02,  7.63092116e-02, -2.59088799e-02,\n",
              "        6.95563406e-02, -3.41263115e-02,  2.40552500e-02,  5.29398955e-02,\n",
              "        1.38456794e-02, -5.76106869e-02, -5.22046275e-02, -6.44497499e-02,\n",
              "        2.84507535e-02,  4.42954563e-02, -2.46602055e-02, -6.98097721e-02,\n",
              "       -1.15932167e-01, -4.72397394e-02, -1.01535238e-01, -8.76750201e-02,\n",
              "       -5.62119186e-02,  2.37397272e-02, -5.00920638e-02, -4.34814580e-02,\n",
              "        6.27230331e-02,  9.80307441e-03, -7.30023384e-02,  2.93235481e-02,\n",
              "       -3.13114114e-02,  3.66850868e-02, -3.08216680e-02, -5.70624471e-02,\n",
              "        2.19935961e-02, -2.96210833e-02,  7.53491297e-02,  2.94768736e-02,\n",
              "        2.03057732e-02, -7.82070383e-02, -4.80617173e-02,  1.37698965e-03,\n",
              "       -1.22559786e-01, -2.35762983e-03, -2.29091924e-02, -9.40042641e-03,\n",
              "       -9.84589383e-03, -6.15637489e-02, -9.17824507e-02,  6.20979704e-02,\n",
              "        4.85098101e-02, -8.80365744e-02, -7.78404772e-02,  8.12163278e-02,\n",
              "        4.01200652e-02,  5.71785048e-02,  6.34055808e-02, -3.81310284e-03,\n",
              "        3.92278284e-03, -2.68421620e-02, -9.51846689e-03,  7.14403614e-02,\n",
              "       -8.47923607e-02, -8.36191773e-02,  1.63104590e-02,  4.40041237e-02,\n",
              "       -4.48737442e-02, -8.77544433e-02, -1.55584572e-03, -6.84659332e-02,\n",
              "       -4.01696227e-02, -4.84285951e-02,  4.33791578e-02, -4.34145220e-02,\n",
              "       -5.12611680e-02,  1.01444852e-02,  7.26033598e-02, -6.68864846e-02,\n",
              "       -6.05205633e-02, -4.79422174e-02, -1.67870466e-02,  5.91008924e-02,\n",
              "        2.15752181e-02, -4.17292975e-02, -2.45203823e-03,  7.27482811e-02,\n",
              "        3.84975895e-02, -1.71388015e-02,  7.75140449e-02, -3.90140936e-02,\n",
              "        1.88530982e-02,  4.39057872e-02, -8.13438520e-02,  4.45818016e-03,\n",
              "        7.94180036e-02, -1.70031842e-02, -4.02734019e-02, -8.39970484e-02,\n",
              "        3.41339521e-02, -3.05702053e-02, -2.06074528e-02,  1.93639565e-02,\n",
              "       -4.44497988e-02, -6.76381886e-02, -8.00853074e-02,  2.52359658e-02,\n",
              "        2.91914912e-03, -3.69491167e-02, -6.62617981e-02, -4.28706110e-02,\n",
              "       -6.90978691e-02,  2.38714665e-02,  5.91885075e-02,  3.28682363e-04],\n",
              "      dtype=float32)"
            ]
          },
          "metadata": {
            "tags": []
          },
          "execution_count": 45
        }
      ]
    },
    {
      "cell_type": "code",
      "metadata": {
        "id": "Y7Xc79-ftU9u"
      },
      "source": [
        ""
      ],
      "execution_count": null,
      "outputs": []
    }
  ]
}