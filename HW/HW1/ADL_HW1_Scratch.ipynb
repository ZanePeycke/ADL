{
  "nbformat": 4,
  "nbformat_minor": 0,
  "metadata": {
    "colab": {
      "name": "ADL_HW1_Scratch.ipynb",
      "provenance": [],
      "collapsed_sections": []
    },
    "kernelspec": {
      "name": "python3",
      "display_name": "Python 3"
    }
  },
  "cells": [
    {
      "cell_type": "code",
      "metadata": {
        "id": "YHVzdAH2DA3B",
        "outputId": "48f8ba58-e9d6-4323-ef53-610783be626f",
        "colab": {
          "base_uri": "https://localhost:8080/",
          "height": 34
        }
      },
      "source": [
        "import tensorflow as tf\n",
        "print(tf.__version__)"
      ],
      "execution_count": 1,
      "outputs": [
        {
          "output_type": "stream",
          "text": [
            "2.3.0\n"
          ],
          "name": "stdout"
        }
      ]
    },
    {
      "cell_type": "code",
      "metadata": {
        "id": "1SO2Tkb3DI3_"
      },
      "source": [
        "from tensorflow.keras.layers import Dense, Flatten\n",
        "from tensorflow.keras import Model\n",
        "import matplotlib.pyplot as plt\n",
        "import numpy as np\n"
      ],
      "execution_count": 2,
      "outputs": []
    },
    {
      "cell_type": "code",
      "metadata": {
        "id": "hZs-2O8nDWnp"
      },
      "source": [
        "# Download dataset\n",
        "mnist = tf.keras.datasets.mnist\n",
        "\n",
        "#load\n",
        "(x_train, y_train), (x_test, y_test) = mnist.load_data()\n",
        "\n",
        "#normalize\n",
        "x_train, x_test = x_train/ 255.0, x_test / 255.0"
      ],
      "execution_count": 3,
      "outputs": []
    },
    {
      "cell_type": "code",
      "metadata": {
        "id": "lnkRcD6tDrJj",
        "outputId": "e1a9c1f2-ff5c-40e1-f97c-4126515602d9",
        "colab": {
          "base_uri": "https://localhost:8080/",
          "height": 221
        }
      },
      "source": [
        "# Define, train and evalue a linear model\n",
        "\n",
        "model = tf.keras.models.Sequential([\n",
        "                                    tf.keras.layers.Flatten(input_shape=(28,28)), # images are 28 x 28 in size\n",
        "                                    tf.keras.layers.Dense(10, activation='softmax')\n",
        "])\n",
        "\n",
        "model.compile(optimizer='adam', loss='sparse_categorical_crossentropy',metrics=['accuracy'])\n",
        "\n",
        "model.fit(x_train, y_train, epochs = 5)\n",
        "model.evaluate(x_test,y_test)"
      ],
      "execution_count": 4,
      "outputs": [
        {
          "output_type": "stream",
          "text": [
            "Epoch 1/5\n",
            "1875/1875 [==============================] - 3s 1ms/step - loss: 0.4673 - accuracy: 0.8766\n",
            "Epoch 2/5\n",
            "1875/1875 [==============================] - 3s 1ms/step - loss: 0.3035 - accuracy: 0.9154\n",
            "Epoch 3/5\n",
            "1875/1875 [==============================] - 2s 1ms/step - loss: 0.2831 - accuracy: 0.9210\n",
            "Epoch 4/5\n",
            "1875/1875 [==============================] - 2s 1ms/step - loss: 0.2731 - accuracy: 0.9237\n",
            "Epoch 5/5\n",
            "1875/1875 [==============================] - 2s 1ms/step - loss: 0.2668 - accuracy: 0.9251\n",
            "313/313 [==============================] - 0s 1ms/step - loss: 0.2652 - accuracy: 0.9264\n"
          ],
          "name": "stdout"
        },
        {
          "output_type": "execute_result",
          "data": {
            "text/plain": [
              "[0.26522326469421387, 0.9264000058174133]"
            ]
          },
          "metadata": {
            "tags": []
          },
          "execution_count": 4
        }
      ]
    },
    {
      "cell_type": "code",
      "metadata": {
        "id": "owRoE6XWEPIH"
      },
      "source": [
        "# 1A Plot loss and accuracy\n",
        "\n",
        "model = tf.keras.models.Sequential([\n",
        "                                    tf.keras.layers.Flatten(input_shape=(28,28)),\n",
        "                                    tf.keras.layers.Dense(10, activation='softmax')\n",
        "])\n",
        "\n",
        "model.compile(optimizer='adam',\n",
        "              loss='sparse_categorical_crossentropy',\n",
        "              metrics=['accuracy'])"
      ],
      "execution_count": 5,
      "outputs": []
    },
    {
      "cell_type": "code",
      "metadata": {
        "id": "CEJifob2FDwH",
        "outputId": "5020c2b5-c369-4d2f-d011-4d3d10bcf482",
        "colab": {
          "base_uri": "https://localhost:8080/",
          "height": 357
        }
      },
      "source": [
        "# TODO Create a history object to store the results of model.fit\n",
        "\n",
        "history = model.fit(x_train, y_train, validation_data=(x_test,y_test), epochs =10)\n",
        "\n"
      ],
      "execution_count": 6,
      "outputs": [
        {
          "output_type": "stream",
          "text": [
            "Epoch 1/10\n",
            "1875/1875 [==============================] - 3s 2ms/step - loss: 0.4695 - accuracy: 0.8771 - val_loss: 0.3072 - val_accuracy: 0.9155\n",
            "Epoch 2/10\n",
            "1875/1875 [==============================] - 3s 1ms/step - loss: 0.3040 - accuracy: 0.9150 - val_loss: 0.2792 - val_accuracy: 0.9227\n",
            "Epoch 3/10\n",
            "1875/1875 [==============================] - 3s 2ms/step - loss: 0.2833 - accuracy: 0.9203 - val_loss: 0.2783 - val_accuracy: 0.9228\n",
            "Epoch 4/10\n",
            "1875/1875 [==============================] - 3s 2ms/step - loss: 0.2731 - accuracy: 0.9237 - val_loss: 0.2695 - val_accuracy: 0.9252\n",
            "Epoch 5/10\n",
            "1875/1875 [==============================] - 3s 2ms/step - loss: 0.2666 - accuracy: 0.9260 - val_loss: 0.2660 - val_accuracy: 0.9260\n",
            "Epoch 6/10\n",
            "1875/1875 [==============================] - 3s 1ms/step - loss: 0.2619 - accuracy: 0.9278 - val_loss: 0.2667 - val_accuracy: 0.9264\n",
            "Epoch 7/10\n",
            "1875/1875 [==============================] - 3s 2ms/step - loss: 0.2588 - accuracy: 0.9283 - val_loss: 0.2667 - val_accuracy: 0.9272\n",
            "Epoch 8/10\n",
            "1875/1875 [==============================] - 3s 2ms/step - loss: 0.2552 - accuracy: 0.9296 - val_loss: 0.2699 - val_accuracy: 0.9258\n",
            "Epoch 9/10\n",
            "1875/1875 [==============================] - 3s 1ms/step - loss: 0.2529 - accuracy: 0.9305 - val_loss: 0.2662 - val_accuracy: 0.9261\n",
            "Epoch 10/10\n",
            "1875/1875 [==============================] - 3s 1ms/step - loss: 0.2509 - accuracy: 0.9309 - val_loss: 0.2664 - val_accuracy: 0.9259\n"
          ],
          "name": "stdout"
        }
      ]
    },
    {
      "cell_type": "code",
      "metadata": {
        "id": "EgvXJJFcFo7T",
        "outputId": "9f42c1d9-c02f-4592-944f-4f4aa441d71b",
        "colab": {
          "base_uri": "https://localhost:8080/",
          "height": 573
        }
      },
      "source": [
        "# plot history\n",
        "def plot(history):\n",
        "\n",
        "  # The history object contains results on the training and validation sets for each epoch\n",
        "  acc = history.history['accuracy']\n",
        "  val_acc = history.history['val_accuracy']\n",
        "  loss = history.history['loss']\n",
        "  val_loss = history.history['val_loss']\n",
        "\n",
        "  # Get number of epochs\n",
        "  epochs = range(len(acc))\n",
        "\n",
        "  plt.title('Training and validation accuracy')\n",
        "  plt.plot(epochs, acc, color='blue', label='Train')\n",
        "  plt.plot(epochs, val_acc, color='orange', label='Validation')\n",
        "  plt.xlabel('Epoch')\n",
        "  plt.ylabel('Accuracy')\n",
        "  plt.legend()\n",
        "\n",
        "\n",
        "  _= plt.figure()\n",
        "  plt.title('Training and Validation loss')\n",
        "  plt.plot(epochs, loss, color='blue', label='Train')\n",
        "  plt.plot(epochs, val_loss, color='orange', label=\"Validation\")\n",
        "  plt.xlabel('Epoch')\n",
        "  plt.ylabel('Loss')\n",
        "  plt.legend()\n",
        "\n",
        "\n",
        "plot(history)\n"
      ],
      "execution_count": 7,
      "outputs": [
        {
          "output_type": "display_data",
          "data": {
            "image/png": "[encoded data removed]",
            "text/plain": [
              "<Figure size 432x288 with 1 Axes>"
            ]
          },
          "metadata": {
            "tags": [],
            "needs_background": "light"
          }
        },
        {
          "output_type": "display_data",
          "data": {
            "image/png": "[encoded data removed]",
            "text/plain": [
              "<Figure size 432x288 with 1 Axes>"
            ]
          },
          "metadata": {
            "tags": [],
            "needs_background": "light"
          }
        }
      ]
    },
    {
      "cell_type": "code",
      "metadata": {
        "id": "voBtyF9jJE2b"
      },
      "source": [
        "#1B Implement NN\n",
        "\n",
        "# Single hidden layer\n",
        "# Add a dense layer with 128 units and Relu Activation\n",
        "# Train and evaluate\n",
        "# How does the accuracy compare to the linear model above?"
      ],
      "execution_count": 8,
      "outputs": []
    },
    {
      "cell_type": "code",
      "metadata": {
        "id": "DFx42UslJnTX",
        "outputId": "9149a5f8-df9d-4508-d021-54d159481412",
        "colab": {
          "base_uri": "https://localhost:8080/",
          "height": 913
        }
      },
      "source": [
        "model = tf.keras.models.Sequential([\n",
        "                                    tf.keras.layers.Flatten(input_shape=(28,28)),\n",
        "                                    tf.keras.layers.Dense(128, activation='relu'),\n",
        "                                    tf.keras.layers.Dense(10, activation='softmax')\n",
        "])\n",
        "\n",
        "model.compile(\n",
        "    optimizer='adam',\n",
        "    loss = 'sparse_categorical_crossentropy',\n",
        "    metrics=['accuracy']\n",
        ")\n",
        "\n",
        "neural_history = model.fit(x_train, y_train, validation_data=(x_test,y_test), epochs =10)\n",
        "plot(neural_history)"
      ],
      "execution_count": 9,
      "outputs": [
        {
          "output_type": "stream",
          "text": [
            "Epoch 1/10\n",
            "1875/1875 [==============================] - 5s 2ms/step - loss: 0.2601 - accuracy: 0.9253 - val_loss: 0.1311 - val_accuracy: 0.9614\n",
            "Epoch 2/10\n",
            "1875/1875 [==============================] - 4s 2ms/step - loss: 0.1155 - accuracy: 0.9657 - val_loss: 0.1028 - val_accuracy: 0.9682\n",
            "Epoch 3/10\n",
            "1875/1875 [==============================] - 4s 2ms/step - loss: 0.0789 - accuracy: 0.9764 - val_loss: 0.0847 - val_accuracy: 0.9731\n",
            "Epoch 4/10\n",
            "1875/1875 [==============================] - 4s 2ms/step - loss: 0.0589 - accuracy: 0.9817 - val_loss: 0.0942 - val_accuracy: 0.9686\n",
            "Epoch 5/10\n",
            "1875/1875 [==============================] - 4s 2ms/step - loss: 0.0451 - accuracy: 0.9861 - val_loss: 0.0746 - val_accuracy: 0.9765\n",
            "Epoch 6/10\n",
            "1875/1875 [==============================] - 4s 2ms/step - loss: 0.0363 - accuracy: 0.9886 - val_loss: 0.0702 - val_accuracy: 0.9780\n",
            "Epoch 7/10\n",
            "1875/1875 [==============================] - 4s 2ms/step - loss: 0.0288 - accuracy: 0.9909 - val_loss: 0.0736 - val_accuracy: 0.9766\n",
            "Epoch 8/10\n",
            "1875/1875 [==============================] - 4s 2ms/step - loss: 0.0231 - accuracy: 0.9929 - val_loss: 0.0775 - val_accuracy: 0.9787\n",
            "Epoch 9/10\n",
            "1875/1875 [==============================] - 4s 2ms/step - loss: 0.0192 - accuracy: 0.9938 - val_loss: 0.0786 - val_accuracy: 0.9767\n",
            "Epoch 10/10\n",
            "1875/1875 [==============================] - 4s 2ms/step - loss: 0.0169 - accuracy: 0.9948 - val_loss: 0.0833 - val_accuracy: 0.9770\n"
          ],
          "name": "stdout"
        },
        {
          "output_type": "display_data",
          "data": {
            "image/png": "[encoded data removed]",
            "text/plain": [
              "<Figure size 432x288 with 1 Axes>"
            ]
          },
          "metadata": {
            "tags": [],
            "needs_background": "light"
          }
        },
        {
          "output_type": "display_data",
          "data": {
            "image/png": "[encoded data removed]",
            "text/plain": [
              "<Figure size 432x288 with 1 Axes>"
            ]
          },
          "metadata": {
            "tags": [],
            "needs_background": "light"
          }
        }
      ]
    },
    {
      "cell_type": "code",
      "metadata": {
        "id": "qcIZvIhkKLH9",
        "outputId": "d0f9ef6a-7df1-4c6d-a12c-b4e614693168",
        "colab": {
          "base_uri": "https://localhost:8080/",
          "height": 913
        }
      },
      "source": [
        "#1C Implement a deep NN\n",
        "# Modify the code below to create and train a deep neural network with at least two hidden layers\n",
        "\n",
        "model = tf.keras.models.Sequential([\n",
        "                                     tf.keras.layers.Flatten(input_shape=(28,28)),\n",
        "                                     tf.keras.layers.Dense(128,activation='relu'),\n",
        "                                     tf.keras.layers.Dense(128,activation='relu'),\n",
        "                                     tf.keras.layers.Dense(128, activation='relu'),\n",
        "                                     tf.keras.layers.Dense(128, activation='relu'),\n",
        "                                     tf.keras.layers.Dense(10, activation='softmax')\n",
        "])\n",
        "\n",
        "\n",
        "model.compile(optimizer='adam',\n",
        "              loss='sparse_categorical_crossentropy',\n",
        "              metrics=['accuracy'])\n",
        "deep_history = model.fit(x_train, y_train, validation_data=(x_test,y_test), epochs=10)\n",
        "plot(deep_history)"
      ],
      "execution_count": 10,
      "outputs": [
        {
          "output_type": "stream",
          "text": [
            "Epoch 1/10\n",
            "1875/1875 [==============================] - 6s 3ms/step - loss: 0.2346 - accuracy: 0.9291 - val_loss: 0.1157 - val_accuracy: 0.9630\n",
            "Epoch 2/10\n",
            "1875/1875 [==============================] - 6s 3ms/step - loss: 0.1056 - accuracy: 0.9682 - val_loss: 0.0970 - val_accuracy: 0.9694\n",
            "Epoch 3/10\n",
            "1875/1875 [==============================] - 6s 3ms/step - loss: 0.0770 - accuracy: 0.9761 - val_loss: 0.0999 - val_accuracy: 0.9693\n",
            "Epoch 4/10\n",
            "1875/1875 [==============================] - 6s 3ms/step - loss: 0.0621 - accuracy: 0.9811 - val_loss: 0.0871 - val_accuracy: 0.9749\n",
            "Epoch 5/10\n",
            "1875/1875 [==============================] - 6s 3ms/step - loss: 0.0510 - accuracy: 0.9831 - val_loss: 0.0929 - val_accuracy: 0.9738\n",
            "Epoch 6/10\n",
            "1875/1875 [==============================] - 6s 3ms/step - loss: 0.0440 - accuracy: 0.9862 - val_loss: 0.0815 - val_accuracy: 0.9781\n",
            "Epoch 7/10\n",
            "1875/1875 [==============================] - 6s 3ms/step - loss: 0.0375 - accuracy: 0.9887 - val_loss: 0.0810 - val_accuracy: 0.9779\n",
            "Epoch 8/10\n",
            "1875/1875 [==============================] - 6s 3ms/step - loss: 0.0336 - accuracy: 0.9893 - val_loss: 0.0986 - val_accuracy: 0.9756\n",
            "Epoch 9/10\n",
            "1875/1875 [==============================] - 6s 3ms/step - loss: 0.0287 - accuracy: 0.9912 - val_loss: 0.0792 - val_accuracy: 0.9798\n",
            "Epoch 10/10\n",
            "1875/1875 [==============================] - 6s 3ms/step - loss: 0.0276 - accuracy: 0.9915 - val_loss: 0.1065 - val_accuracy: 0.9738\n"
          ],
          "name": "stdout"
        },
        {
          "output_type": "display_data",
          "data": {
            "image/png": "[encoded data removed]",
            "text/plain": [
              "<Figure size 432x288 with 1 Axes>"
            ]
          },
          "metadata": {
            "tags": [],
            "needs_background": "light"
          }
        },
        {
          "output_type": "display_data",
          "data": {
            "image/png": "[encoded data removed]",
            "text/plain": [
              "<Figure size 432x288 with 1 Axes>"
            ]
          },
          "metadata": {
            "tags": [],
            "needs_background": "light"
          }
        }
      ]
    },
    {
      "cell_type": "code",
      "metadata": {
        "id": "V8_zcroGMqAv"
      },
      "source": [
        "# 1D make predictions on the entire test set using model.predict\n",
        "# identify one image classified correctly, and one image classified incorrectly\n",
        "# Display the images, correct labels, predicted labels, and confidence scores"
      ],
      "execution_count": 11,
      "outputs": []
    },
    {
      "cell_type": "code",
      "metadata": {
        "id": "YFbVkRWJZh0p"
      },
      "source": [
        "predictions = model.predict(x_test)"
      ],
      "execution_count": 12,
      "outputs": []
    },
    {
      "cell_type": "code",
      "metadata": {
        "id": "xtHmIN1FZ7Jr"
      },
      "source": [
        "# Check the first ten predicted labels and true labels to find examples of correct and incorrect predictions\n",
        "\n",
        "# Create lists for all correct and incorrect positions\n",
        "correct_prediction_indicies = []\n",
        "incorrect_prediction_indicies = []\n",
        "\n",
        "for i in range(len(predictions)):\n",
        "  if (tf.math.argmax(predictions[i]) == y_test[i]): # Prediction is correct\n",
        "    correct_prediction_indicies.append(i)\n",
        "  else:\n",
        "    incorrect_prediction_indicies.append(i)\n",
        "    "
      ],
      "execution_count": 13,
      "outputs": []
    },
    {
      "cell_type": "code",
      "metadata": {
        "id": "40kBD0rF62-F",
        "outputId": "14fe2b19-5b3b-48e0-f7ab-b57b22b9d56d",
        "colab": {
          "base_uri": "https://localhost:8080/",
          "height": 51
        }
      },
      "source": [
        "print(f'The first correct prediction occurs at index={correct_prediction_indicies[0]}')\n",
        "print(f'The first incorrect prediction occurs at index={incorrect_prediction_indicies[0]}')"
      ],
      "execution_count": 14,
      "outputs": [
        {
          "output_type": "stream",
          "text": [
            "The first correct prediction occurs at index=0\n",
            "The first incorrect prediction occurs at index=7\n"
          ],
          "name": "stdout"
        }
      ]
    },
    {
      "cell_type": "code",
      "metadata": {
        "id": "zbWyiW8y0bFb"
      },
      "source": [
        "# So we can assign variables to avoid typing the full list for clarity\n",
        "first_correct_pred_index = correct_prediction_indicies[0]\n",
        "first_incorrect_pred_index = incorrect_prediction_indicies[0]\n"
      ],
      "execution_count": 15,
      "outputs": []
    },
    {
      "cell_type": "code",
      "metadata": {
        "id": "A688EhEdxt9r",
        "outputId": "387f64e6-c576-4935-bf74-02e87f946c8a",
        "colab": {
          "base_uri": "https://localhost:8080/",
          "height": 321
        }
      },
      "source": [
        "# Unclear about confidence score\n",
        "\n",
        "fig, ax = plt.subplots(1,2)\n",
        "fig.set_size_inches(8,4)\n",
        "\n",
        "ax[0].set_title(\"Correct Prediction\")\n",
        "ax[0].set_xlabel(f'True Label:{y_test[first_correct_pred_index]} \\n Predicted Label:{np.argmax(predictions[first_correct_pred_index])} \\n Confidence Score:{np.max(predictions[first_correct_pred_index])}')\n",
        "\n",
        "ax[1].set_title(\"Incorrect Prediction\")\n",
        "ax[1].set_xlabel(f'True label:{y_test[first_incorrect_pred_index]} \\n Predicted Label:{np.argmax(predictions[first_incorrect_pred_index])} \\n Confidence Score:{np.max(predictions[first_incorrect_pred_index])}')\n",
        "\n",
        "ax[0].imshow(x_test[first_correct_pred_index])\n",
        "ax[1].imshow(x_test[first_incorrect_pred_index])\n",
        "\n",
        "\n",
        "\n"
      ],
      "execution_count": 16,
      "outputs": [
        {
          "output_type": "execute_result",
          "data": {
            "text/plain": [
              "<matplotlib.image.AxesImage at 0x7fb778f63a58>"
            ]
          },
          "metadata": {
            "tags": []
          },
          "execution_count": 16
        },
        {
          "output_type": "display_data",
          "data": {
            "image/png": "[encoded data removed]",
            "text/plain": [
              "<Figure size 576x288 with 2 Axes>"
            ]
          },
          "metadata": {
            "tags": [],
            "needs_background": "light"
          }
        }
      ]
    },
    {
      "cell_type": "code",
      "metadata": {
        "id": "fsd92QRPwaKM"
      },
      "source": [
        "#Part 2 Subclassed Models\n",
        "# Instead of using the built in model.fit methods, we will train models using GradientTape and the Keras Subclassing API\n"
      ],
      "execution_count": 17,
      "outputs": []
    },
    {
      "cell_type": "code",
      "metadata": {
        "id": "KLuTA1Wu0wdb"
      },
      "source": [
        "#download and prepare our dataset\n",
        "# We also are going to use tf.data to batch and shuffle the data. \n",
        "\n",
        "# Load Data\n",
        "(x_train, y_train), (x_test, y_test) = tf.keras.datasets.mnist.load_data()\n",
        "\n",
        "# Batch and shuffle the data\n",
        "train_ds = tf.data.Dataset.from_tensor_slices(\n",
        "    (x_train.astype('float32') / 255, y_train)).shuffle(1024).batch(32)\n",
        "\n",
        "test_ds= tf.data.Dataset.from_tensor_slices(\n",
        "    (x_test.astype('float32') / 255, y_test)).batch(32)\n",
        "    "
      ],
      "execution_count": 18,
      "outputs": []
    },
    {
      "cell_type": "code",
      "metadata": {
        "id": "a8H6-nNV1pYX",
        "outputId": "92f8dff3-a1b0-4dea-e766-40755344c9aa",
        "colab": {
          "base_uri": "https://localhost:8080/",
          "height": 282
        }
      },
      "source": [
        "# Example of iterating over a dataset object\n",
        "for image, label in train_ds.take(1):\n",
        "  plt.imshow(image[0],plt.get_cmap('gray'))\n",
        "  print(label[0])"
      ],
      "execution_count": 19,
      "outputs": [
        {
          "output_type": "stream",
          "text": [
            "tf.Tensor(1, shape=(), dtype=uint8)\n"
          ],
          "name": "stdout"
        },
        {
          "output_type": "display_data",
          "data": {
            "image/png": "[encoded data removed]",
            "text/plain": [
              "<Figure size 432x288 with 1 Axes>"
            ]
          },
          "metadata": {
            "tags": [],
            "needs_background": "light"
          }
        }
      ]
    },
    {
      "cell_type": "code",
      "metadata": {
        "id": "Gm2jROPA2N1j"
      },
      "source": [
        "class MyLinearModel(Model):\n",
        "  def __init__(self):\n",
        "    super(MyLinearModel, self).__init__()\n",
        "    self.flatten = Flatten()\n",
        "    self.d1 = Dense(10, activation='softmax', name=\"dense1\")\n",
        "\n",
        "  def call(self, x):\n",
        "    x = self.flatten(x)\n",
        "    return self.d1(x)"
      ],
      "execution_count": 20,
      "outputs": []
    },
    {
      "cell_type": "code",
      "metadata": {
        "id": "JNhPGGVX2wrJ",
        "outputId": "9fa62f9b-e2fa-47b9-9f10-a09409a2c6e4",
        "colab": {
          "base_uri": "https://localhost:8080/",
          "height": 102
        }
      },
      "source": [
        "model = MyLinearModel()\n",
        "\n",
        "loss_fn = tf.keras.losses.SparseCategoricalCrossentropy()\n",
        "optimizer = tf.keras.optimizers.SGD()\n",
        "\n",
        "# For each epoch\n",
        "for epoch in range(5):\n",
        "\n",
        "  # For each batch of images and labels\n",
        "  for images, labels in train_ds:\n",
        "\n",
        "    # Open a GradientTape.\n",
        "    with tf.GradientTape() as tape:\n",
        "\n",
        "      # Forward pass\n",
        "      predictions = model(images)\n",
        "\n",
        "      # Calculate loss\n",
        "      loss = loss_fn(labels, predictions)\n",
        "\n",
        "    # Backprop to calculate gradients\n",
        "    gradients = tape.gradient(loss, model.trainable_variables)\n",
        "\n",
        "    # Gradient descent step\n",
        "    optimizer.apply_gradients(zip(gradients, model.trainable_variables))\n",
        "\n",
        "  # Calculate loss on the test data\n",
        "  test_loss = []\n",
        "  for images, labels in test_ds: \n",
        "    predictions = model(images)\n",
        "    loss_on_batch = loss_fn(labels, predictions)\n",
        "    test_loss.append(loss_on_batch)\n",
        "    \n",
        "  print(\"Epoch {}, Test loss: {}\".format(epoch, tf.reduce_mean(test_loss)))"
      ],
      "execution_count": 21,
      "outputs": [
        {
          "output_type": "stream",
          "text": [
            "Epoch 0, Test loss: 0.48074477910995483\n",
            "Epoch 1, Test loss: 0.4006522297859192\n",
            "Epoch 2, Test loss: 0.3678535223007202\n",
            "Epoch 3, Test loss: 0.34874895215034485\n",
            "Epoch 4, Test loss: 0.3363623023033142\n"
          ],
          "name": "stdout"
        }
      ]
    },
    {
      "cell_type": "code",
      "metadata": {
        "id": "3oQmHMC0mIOn",
        "outputId": "893e5551-b74c-46f2-9c41-852be6b747da",
        "colab": {
          "base_uri": "https://localhost:8080/",
          "height": 34
        }
      },
      "source": [
        "# There are two ways to retrieve the weights. You can use the public API\n",
        "# (model.get_layer(name).get_weights()), or, you can access the dense layer \n",
        "# directly (model.dl) then find the accessor method, or again, access the\n",
        "# variable directly.\n",
        "# Python tip: try ```dir(model.d1)```\n",
        "\n",
        "# TODO: modify this code to get the weights\n",
        "weights, bias = model.get_layer('dense1').get_weights()\n",
        "print(weights.shape)"
      ],
      "execution_count": 22,
      "outputs": [
        {
          "output_type": "stream",
          "text": [
            "(784, 10)\n"
          ],
          "name": "stdout"
        }
      ]
    },
    {
      "cell_type": "code",
      "metadata": {
        "id": "jidRZZ8opguB",
        "outputId": "45856463-4897-4966-ffca-48b5718f32b7",
        "colab": {
          "base_uri": "https://localhost:8080/",
          "height": 141
        }
      },
      "source": [
        "fig, axs = plt.subplots(1,10, figsize=(20,20))\n",
        "for i in range(10):\n",
        "  subplot = axs[i]\n",
        "  subplot.set_title(i)\n",
        "  subplot.axis('off')\n",
        "  # TODO: modify this code to complete the plotting function\n",
        "  i_weights = weights[:,i]\n",
        "  img = i_weights.reshape(28,28) # Reshape the weights into a 28x28 array\n",
        "  subplot.imshow(img, plt.get_cmap('seismic'))\n",
        "plt.show()"
      ],
      "execution_count": 23,
      "outputs": [
        {
          "output_type": "display_data",
          "data": {
            "image/png": "[encoded data removed]",
            "text/plain": [
              "<Figure size 1440x1440 with 10 Axes>"
            ]
          },
          "metadata": {
            "tags": [],
            "needs_background": "light"
          }
        }
      ]
    },
    {
      "cell_type": "code",
      "metadata": {
        "id": "1pLOMmm3q6_A"
      },
      "source": [
        "# 2B implement Deep neural network"
      ],
      "execution_count": 49,
      "outputs": []
    },
    {
      "cell_type": "code",
      "metadata": {
        "id": "pLiRArPJq7uL"
      },
      "source": [
        "class MyDNN(Model):\n",
        "  def __init__(self):\n",
        "    super(MyDNN, self).__init__()\n",
        "    self.flatten = Flatten()\n",
        "    # Modify me\n",
        "    self.d0 = Dense(32, activation='relu')\n",
        "    self.d1 = Dense(32, activation='relu')\n",
        "    self.d2 = Dense(256, activation='relu')\n",
        "    self.d3 = Dense(256, activation='relu')\n",
        "    self.d4 = Dense(256, activation='relu')\n",
        "    self.d5 = Dense(256, activation='relu')\n",
        "    self.d6 = Dense(256, activation='relu')\n",
        "    self.d7 = Dense(256, activation='relu')\n",
        "    self.d8 = Dense(256, activation='relu')\n",
        "    self.d9 = Dense(10, activation='softmax')\n",
        "\n",
        "  def call(self, x):\n",
        "    x = self.flatten(x)\n",
        "    return self.d9(x)\n",
        "\n",
        "model = MyDNN()"
      ],
      "execution_count": 50,
      "outputs": []
    },
    {
      "cell_type": "code",
      "metadata": {
        "id": "Pl_qElVQul0l"
      },
      "source": [
        "loss_object = tf.keras.losses.SparseCategoricalCrossentropy()\n",
        "optimizer = tf.keras.optimizers.Adam()"
      ],
      "execution_count": 51,
      "outputs": []
    },
    {
      "cell_type": "code",
      "metadata": {
        "id": "COwUJyBCunMU"
      },
      "source": [
        "train_loss = tf.keras.metrics.Mean(name='train_loss')\n",
        "train_accuracy = tf.keras.metrics.SparseCategoricalAccuracy(name='train_accuracy')\n",
        "\n",
        "test_loss = tf.keras.metrics.Mean(name='test_loss')\n",
        "test_accuracy = tf.keras.metrics.SparseCategoricalAccuracy(name='test_accuracy')"
      ],
      "execution_count": 52,
      "outputs": []
    },
    {
      "cell_type": "code",
      "metadata": {
        "id": "EQmHKRRUuqfD"
      },
      "source": [
        "# @tf.function\n",
        "def train_step(images, labels):\n",
        "  with tf.GradientTape() as tape:\n",
        "    predictions = model(images)\n",
        "    loss = loss_object(labels, predictions)\n",
        "  gradients = tape.gradient(loss, model.trainable_variables)\n",
        "  optimizer.apply_gradients(zip(gradients, model.trainable_variables))\n",
        "\n",
        "  train_loss(loss)\n",
        "  train_accuracy(labels, predictions)"
      ],
      "execution_count": 53,
      "outputs": []
    },
    {
      "cell_type": "code",
      "metadata": {
        "id": "TKAS7K5Tuqxn"
      },
      "source": [
        "# @tf.function\n",
        "def test_step(images, labels):\n",
        "  predictions = model(images)\n",
        "  t_loss = loss_object(labels, predictions)\n",
        "\n",
        "  test_loss(t_loss)\n",
        "  test_accuracy(labels, predictions)"
      ],
      "execution_count": 54,
      "outputs": []
    },
    {
      "cell_type": "code",
      "metadata": {
        "id": "JorMv-BbusG5",
        "outputId": "0710a0b4-1622-41af-c195-fe92aaf8a7fa",
        "colab": {
          "base_uri": "https://localhost:8080/",
          "height": 102
        }
      },
      "source": [
        "EPOCHS = 5\n",
        "\n",
        "for epoch in range(EPOCHS):\n",
        "  for images, labels in train_ds:\n",
        "    train_step(images, labels)\n",
        "\n",
        "  for test_images, test_labels in test_ds:\n",
        "    test_step(test_images, test_labels)\n",
        "\n",
        "  template = 'Epoch {}, Loss: {}, Accuracy: {}, Test Loss: {}, Test Accuracy: {}'\n",
        "  print(template.format(epoch+1,\n",
        "                        train_loss.result(),\n",
        "                        train_accuracy.result()*100,\n",
        "                        test_loss.result(),\n",
        "                        test_accuracy.result()*100))\n",
        "\n",
        "  # Reset the metrics for the next epoch\n",
        "  train_loss.reset_states()\n",
        "  train_accuracy.reset_states()\n",
        "  test_loss.reset_states()\n",
        "  test_accuracy.reset_states()"
      ],
      "execution_count": 55,
      "outputs": [
        {
          "output_type": "stream",
          "text": [
            "Epoch 1, Loss: 0.46462997794151306, Accuracy: 87.87333679199219, Test Loss: 0.31036651134490967, Test Accuracy: 91.25999450683594\n",
            "Epoch 2, Loss: 0.3034554123878479, Accuracy: 91.5683364868164, Test Loss: 0.2873935103416443, Test Accuracy: 91.68999481201172\n",
            "Epoch 3, Loss: 0.2832821309566498, Accuracy: 92.11333465576172, Test Loss: 0.2781335115432739, Test Accuracy: 92.06999969482422\n",
            "Epoch 4, Loss: 0.2728305160999298, Accuracy: 92.44499969482422, Test Loss: 0.2711184024810791, Test Accuracy: 92.25\n",
            "Epoch 5, Loss: 0.26630476117134094, Accuracy: 92.66832733154297, Test Loss: 0.27031415700912476, Test Accuracy: 92.18999481201172\n"
          ],
          "name": "stdout"
        }
      ]
    },
    {
      "cell_type": "code",
      "metadata": {
        "id": "LZ9rMfVNuurL"
      },
      "source": [
        "# 2C Provide your own implementation of softmax and use it to train a model"
      ],
      "execution_count": 56,
      "outputs": []
    },
    {
      "cell_type": "code",
      "metadata": {
        "id": "ZoRAiCdP8Efg"
      },
      "source": [
        "# TODO: your code here\n",
        "\n",
        "def my_softmax(x):  \n",
        "  # Softmax is the same as: \n",
        "  # softmax = tf.exp(logits) / tf.reduce_sum(tf.exp(logits), axis)\n",
        "  softmax_value = tf.exp(x) / tf.reduce_sum(tf.exp(x))\n",
        "  return softmax_value\n",
        "\n",
        "class MyModel(Model):\n",
        "  def __init__(self):\n",
        "    super(MyModel, self).__init__()\n",
        "    self.flatten = Flatten()\n",
        "    self.d1 = Dense(10)\n",
        "\n",
        "  def call(self, x):\n",
        "    x = self.flatten(x)\n",
        "    x = self.d1(x)\n",
        "    return my_softmax(x)\n",
        "  \n",
        "model = MyModel()\n",
        "\n",
        "# TODO\n",
        "# Add code to train this model\n",
        "# When it's trained, the accuracy should be similar to the linear\n",
        "# model from part one (but not identical, the weights are initialized randomly)"
      ],
      "execution_count": 57,
      "outputs": []
    },
    {
      "cell_type": "code",
      "metadata": {
        "id": "D8kVRG09Es0R",
        "outputId": "8ea31d38-7215-4518-baac-3eab34967d36",
        "colab": {
          "base_uri": "https://localhost:8080/",
          "height": 102
        }
      },
      "source": [
        "EPOCHS = 5\n",
        "\n",
        "for epoch in range(EPOCHS):\n",
        "  for images, labels in train_ds:\n",
        "    train_step(images, labels)\n",
        "\n",
        "  for test_images, test_labels in test_ds:\n",
        "    test_step(test_images, test_labels)\n",
        "\n",
        "  template = 'Epoch {}, Loss: {}, Accuracy: {}, Test Loss: {}, Test Accuracy: {}'\n",
        "  print(template.format(epoch+1,\n",
        "                        train_loss.result(),\n",
        "                        train_accuracy.result()*100,\n",
        "                        test_loss.result(),\n",
        "                        test_accuracy.result()*100))\n",
        "\n",
        "  # Reset the metrics for the next epoch\n",
        "  train_loss.reset_states()\n",
        "  train_accuracy.reset_states()\n",
        "  test_loss.reset_states()\n",
        "  test_accuracy.reset_states()"
      ],
      "execution_count": 58,
      "outputs": [
        {
          "output_type": "stream",
          "text": [
            "Epoch 1, Loss: 0.35472095012664795, Accuracy: 90.09833526611328, Test Loss: 0.2866450250148773, Test Accuracy: 91.94999694824219\n",
            "Epoch 2, Loss: 0.28675317764282227, Accuracy: 92.02833557128906, Test Loss: 0.27294889092445374, Test Accuracy: 92.22000122070312\n",
            "Epoch 3, Loss: 0.27222010493278503, Accuracy: 92.36333465576172, Test Loss: 0.2685096263885498, Test Accuracy: 92.4000015258789\n",
            "Epoch 4, Loss: 0.26401486992836, Accuracy: 92.62166595458984, Test Loss: 0.2625808119773865, Test Accuracy: 92.54000091552734\n",
            "Epoch 5, Loss: 0.25822243094444275, Accuracy: 92.788330078125, Test Loss: 0.26224467158317566, Test Accuracy: 92.43999481201172\n"
          ],
          "name": "stdout"
        }
      ]
    },
    {
      "cell_type": "code",
      "metadata": {
        "id": "I7sPLUPEFoi6"
      },
      "source": [
        ""
      ],
      "execution_count": null,
      "outputs": []
    }
  ]
}